{
  "nbformat": 4,
  "nbformat_minor": 0,
  "metadata": {
    "colab": {
      "provenance": [],
      "gpuType": "T4",
      "authorship_tag": "ABX9TyPMSy4+OhiQw9oXT2RmI8OB",
      "include_colab_link": true
    },
    "kernelspec": {
      "name": "python3",
      "display_name": "Python 3"
    },
    "language_info": {
      "name": "python"
    },
    "accelerator": "GPU"
  },
  "cells": [
    {
      "cell_type": "markdown",
      "metadata": {
        "id": "view-in-github",
        "colab_type": "text"
      },
      "source": [
        "<a href=\"https://colab.research.google.com/github/officialamit558/PyTorch/blob/main/PyTorch.ipynb\" target=\"_parent\"><img src=\"https://colab.research.google.com/assets/colab-badge.svg\" alt=\"Open In Colab\"/></a>"
      ]
    },
    {
      "cell_type": "markdown",
      "source": [
        "# Introduction to PyTorch\n"
      ],
      "metadata": {
        "id": "uCIGM5lFq_MI"
      }
    },
    {
      "cell_type": "markdown",
      "source": [
        "### Quick Start"
      ],
      "metadata": {
        "id": "qoFsD3QItton"
      }
    },
    {
      "cell_type": "code",
      "execution_count": 2,
      "metadata": {
        "id": "rcGZFyrWgOz9"
      },
      "outputs": [],
      "source": [
        "# Import the required library\n",
        "\n",
        "import torch # First download the torch from pip\n",
        "from torch import nn\n",
        "from torch.utils.data import DataLoader\n",
        "from torchvision import datasets\n",
        "from torchvision.transforms import ToTensor"
      ]
    },
    {
      "cell_type": "code",
      "source": [
        "# Download training data from open datasets.\n",
        "training_data = datasets.FashionMNIST(\n",
        "    root=\"data\",\n",
        "    train=True,\n",
        "    download=True,\n",
        "    transform=ToTensor(),\n",
        ")\n",
        "\n",
        "# Download test data from open datasets.\n",
        "test_data = datasets.FashionMNIST(\n",
        "    root=\"data\",\n",
        "    train=False,\n",
        "    download=True,\n",
        "    transform=ToTensor(),\n",
        ")"
      ],
      "metadata": {
        "colab": {
          "base_uri": "https://localhost:8080/"
        },
        "id": "O3PJ7JC4uToZ",
        "outputId": "69d9a4b7-cbfb-494e-99d9-4a9db5efb80b",
        "collapsed": true
      },
      "execution_count": 3,
      "outputs": [
        {
          "output_type": "stream",
          "name": "stdout",
          "text": [
            "Downloading http://fashion-mnist.s3-website.eu-central-1.amazonaws.com/train-images-idx3-ubyte.gz\n",
            "Downloading http://fashion-mnist.s3-website.eu-central-1.amazonaws.com/train-images-idx3-ubyte.gz to data/FashionMNIST/raw/train-images-idx3-ubyte.gz\n"
          ]
        },
        {
          "output_type": "stream",
          "name": "stderr",
          "text": [
            "100%|██████████| 26.4M/26.4M [00:02<00:00, 9.23MB/s]\n"
          ]
        },
        {
          "output_type": "stream",
          "name": "stdout",
          "text": [
            "Extracting data/FashionMNIST/raw/train-images-idx3-ubyte.gz to data/FashionMNIST/raw\n",
            "\n",
            "Downloading http://fashion-mnist.s3-website.eu-central-1.amazonaws.com/train-labels-idx1-ubyte.gz\n",
            "Downloading http://fashion-mnist.s3-website.eu-central-1.amazonaws.com/train-labels-idx1-ubyte.gz to data/FashionMNIST/raw/train-labels-idx1-ubyte.gz\n"
          ]
        },
        {
          "output_type": "stream",
          "name": "stderr",
          "text": [
            "100%|██████████| 29.5k/29.5k [00:00<00:00, 198kB/s]\n"
          ]
        },
        {
          "output_type": "stream",
          "name": "stdout",
          "text": [
            "Extracting data/FashionMNIST/raw/train-labels-idx1-ubyte.gz to data/FashionMNIST/raw\n",
            "\n",
            "Downloading http://fashion-mnist.s3-website.eu-central-1.amazonaws.com/t10k-images-idx3-ubyte.gz\n",
            "Downloading http://fashion-mnist.s3-website.eu-central-1.amazonaws.com/t10k-images-idx3-ubyte.gz to data/FashionMNIST/raw/t10k-images-idx3-ubyte.gz\n"
          ]
        },
        {
          "output_type": "stream",
          "name": "stderr",
          "text": [
            "100%|██████████| 4.42M/4.42M [00:01<00:00, 3.74MB/s]\n"
          ]
        },
        {
          "output_type": "stream",
          "name": "stdout",
          "text": [
            "Extracting data/FashionMNIST/raw/t10k-images-idx3-ubyte.gz to data/FashionMNIST/raw\n",
            "\n",
            "Downloading http://fashion-mnist.s3-website.eu-central-1.amazonaws.com/t10k-labels-idx1-ubyte.gz\n",
            "Downloading http://fashion-mnist.s3-website.eu-central-1.amazonaws.com/t10k-labels-idx1-ubyte.gz to data/FashionMNIST/raw/t10k-labels-idx1-ubyte.gz\n"
          ]
        },
        {
          "output_type": "stream",
          "name": "stderr",
          "text": [
            "100%|██████████| 5.15k/5.15k [00:00<00:00, 5.85MB/s]"
          ]
        },
        {
          "output_type": "stream",
          "name": "stdout",
          "text": [
            "Extracting data/FashionMNIST/raw/t10k-labels-idx1-ubyte.gz to data/FashionMNIST/raw\n",
            "\n"
          ]
        },
        {
          "output_type": "stream",
          "name": "stderr",
          "text": [
            "\n"
          ]
        }
      ]
    },
    {
      "cell_type": "code",
      "source": [
        "# Use the data loader which are download using the fashionmnist datasets\n",
        "\n",
        "batch_size = 64\n",
        "\n",
        "# Create data loader\n",
        "\n",
        "train_dataloader = DataLoader(training_data , batch_size=batch_size)\n",
        "test_dataloader = DataLoader(test_data , batch_size=batch_size)\n",
        "\n",
        "for X , y in test_dataloader:\n",
        "  print(f\"Shape of X[N , C , H , W]: {X.shape} {X.dtype}\")\n",
        "  print(f\"shape of y: {y.shape} {y.dtype}\")\n",
        "  print(len(X))\n",
        "  print(len(y))\n",
        "  break"
      ],
      "metadata": {
        "id": "vVF4eS_MvhWe",
        "colab": {
          "base_uri": "https://localhost:8080/"
        },
        "outputId": "26db460c-48e3-470d-a3aa-778006c0c8c5"
      },
      "execution_count": 4,
      "outputs": [
        {
          "output_type": "stream",
          "name": "stdout",
          "text": [
            "Shape of X[N , C , H , W]: torch.Size([64, 1, 28, 28]) torch.float32\n",
            "shape of y: torch.Size([64]) torch.int64\n",
            "64\n",
            "64\n"
          ]
        }
      ]
    },
    {
      "cell_type": "code",
      "source": [
        "# Creating the model by usinf the torchvision\n",
        "# We used the \"Accelerator\" for speed the training of the neural network.\n",
        "\n",
        "if torch.cuda.is_available():\n",
        "  device = torch.device(\"cuda\")\n",
        "else:\n",
        "  device = torch.device(\"cpu\")\n",
        "\n",
        "print(f\"Using {device} device\")\n",
        "\n",
        "# Define model\n",
        "\n",
        "class NeuralNetwork(nn.Module):\n",
        "  def __init__(self):\n",
        "    super().__init__()\n",
        "    self.flatten = nn.Flatten()\n",
        "    self.linear_relu_stack = nn.Sequential(\n",
        "        nn.Linear(28*28 , 512),\n",
        "        nn.ReLU(),\n",
        "        nn.Linear(512 , 512),\n",
        "        nn.ReLU(),\n",
        "        nn.Linear(512 , 10)\n",
        "\n",
        "    )\n",
        "\n",
        "  def forward(self , x):\n",
        "    x = self.flatten(x)\n",
        "    logits = self.linear_relu_stack(x)\n",
        "    return logits\n",
        "\n",
        "model = NeuralNetwork().to(device)\n",
        "print(model)\n"
      ],
      "metadata": {
        "id": "SzYucIKnvg3j",
        "colab": {
          "base_uri": "https://localhost:8080/"
        },
        "outputId": "8717909f-c4fd-4c77-b666-86be52833424"
      },
      "execution_count": 5,
      "outputs": [
        {
          "output_type": "stream",
          "name": "stdout",
          "text": [
            "Using cuda device\n",
            "NeuralNetwork(\n",
            "  (flatten): Flatten(start_dim=1, end_dim=-1)\n",
            "  (linear_relu_stack): Sequential(\n",
            "    (0): Linear(in_features=784, out_features=512, bias=True)\n",
            "    (1): ReLU()\n",
            "    (2): Linear(in_features=512, out_features=512, bias=True)\n",
            "    (3): ReLU()\n",
            "    (4): Linear(in_features=512, out_features=10, bias=True)\n",
            "  )\n",
            ")\n"
          ]
        }
      ]
    },
    {
      "cell_type": "code",
      "source": [
        "# So after creation of the model . try to optimize there parameter.\n",
        "# for train model , we need the loss function and optimizer.\n",
        "loss_fn = nn.CrossEntropyLoss()\n",
        "optimizer = torch.optim.SGD(model.parameters(),lr = 0.001)\n",
        "\n",
        "# Make the function to train the model on the respective dataset.\n",
        "def train(dataloader , model , loss_fn , optimizer):\n",
        "  size = len(dataloader.dataset)\n",
        "  model.train()\n",
        "  for batch , (X,y) in enumerate(dataloader):\n",
        "    X , y = X.to(device) , y.to(device)\n",
        "\n",
        "    # Compute the prediction error\n",
        "    pred = model(X)\n",
        "    loss = loss_fn(pred , y)\n",
        "\n",
        "    # Backpropagation\n",
        "    loss.backward()\n",
        "    optimizer.step()\n",
        "    optimizer.zero_grad()\n",
        "\n",
        "    if batch % 100 == 0:\n",
        "      loss , current = loss.item() , (batch + 1) * len(X)\n",
        "      print(f\"loss:{loss:>7f} [{current:>5d}/{size:>5d}]\")"
      ],
      "metadata": {
        "id": "y0SyFdH7vgdL"
      },
      "execution_count": 6,
      "outputs": []
    },
    {
      "cell_type": "code",
      "source": [
        "# we also check the model performace on the test datatest.\n",
        "def test(dataloader , model , loss_fn):\n",
        "  size = len(dataloader.dataset)\n",
        "  num_batches = len(dataloader)\n",
        "  model.eval()\n",
        "  test_loss , correct = 0 , 0\n",
        "  with torch.no_grad():\n",
        "    for X , y in dataloader:\n",
        "      X , y = X.to(device) , y.to(device)\n",
        "      pred = model(X)\n",
        "      test_loss += loss_fn(pred , y).item()\n",
        "      correct += (pred.argmax(1) == y).type(torch.float).sum().item()\n",
        "  test_loss /= num_batches\n",
        "  correct /= size\n",
        "  print(f\"Test Error: \\n Accuracy: {(100*correct):>0.1f}%, Avg loss: {test_loss:>8f} \\n\")"
      ],
      "metadata": {
        "id": "cKf5GSSrveh5"
      },
      "execution_count": 7,
      "outputs": []
    },
    {
      "cell_type": "code",
      "source": [
        "# Now our task of defining the train and test function for the training and testing of the given data\n",
        "\n",
        "# first of all we define the number of epochs on our batch size data train\n",
        "epochs = 5\n",
        "for t in range(epochs):\n",
        "  print(f\"Epoch {t+1}\\n ------------------------\")\n",
        "  train(train_dataloader , model , loss_fn , optimizer)\n",
        "  test(test_dataloader , model , loss_fn)\n",
        "print(\"Done\")"
      ],
      "metadata": {
        "id": "0Iy6_KEgveAQ",
        "colab": {
          "base_uri": "https://localhost:8080/"
        },
        "collapsed": true,
        "outputId": "22d16205-da59-43ee-e9b1-dd41cd4bc1bf"
      },
      "execution_count": 8,
      "outputs": [
        {
          "output_type": "stream",
          "name": "stdout",
          "text": [
            "Epoch 1\n",
            " ------------------------\n",
            "loss:2.297401 [   64/60000]\n",
            "loss:2.288294 [ 6464/60000]\n",
            "loss:2.262791 [12864/60000]\n",
            "loss:2.257319 [19264/60000]\n",
            "loss:2.245998 [25664/60000]\n",
            "loss:2.208615 [32064/60000]\n",
            "loss:2.220539 [38464/60000]\n",
            "loss:2.181887 [44864/60000]\n",
            "loss:2.172261 [51264/60000]\n",
            "loss:2.136672 [57664/60000]\n",
            "Test Error: \n",
            " Accuracy: 41.7%, Avg loss: 2.136441 \n",
            "\n",
            "Epoch 2\n",
            " ------------------------\n",
            "loss:2.141582 [   64/60000]\n",
            "loss:2.139415 [ 6464/60000]\n",
            "loss:2.070297 [12864/60000]\n",
            "loss:2.092332 [19264/60000]\n",
            "loss:2.040942 [25664/60000]\n",
            "loss:1.974066 [32064/60000]\n",
            "loss:2.001434 [38464/60000]\n",
            "loss:1.915469 [44864/60000]\n",
            "loss:1.918906 [51264/60000]\n",
            "loss:1.841565 [57664/60000]\n",
            "Test Error: \n",
            " Accuracy: 59.8%, Avg loss: 1.844959 \n",
            "\n",
            "Epoch 3\n",
            " ------------------------\n",
            "loss:1.871852 [   64/60000]\n",
            "loss:1.851310 [ 6464/60000]\n",
            "loss:1.721247 [12864/60000]\n",
            "loss:1.773221 [19264/60000]\n",
            "loss:1.661434 [25664/60000]\n",
            "loss:1.615276 [32064/60000]\n",
            "loss:1.632323 [38464/60000]\n",
            "loss:1.532637 [44864/60000]\n",
            "loss:1.565251 [51264/60000]\n",
            "loss:1.460881 [57664/60000]\n",
            "Test Error: \n",
            " Accuracy: 60.8%, Avg loss: 1.481595 \n",
            "\n",
            "Epoch 4\n",
            " ------------------------\n",
            "loss:1.541836 [   64/60000]\n",
            "loss:1.521140 [ 6464/60000]\n",
            "loss:1.359370 [12864/60000]\n",
            "loss:1.444400 [19264/60000]\n",
            "loss:1.327213 [25664/60000]\n",
            "loss:1.329553 [32064/60000]\n",
            "loss:1.336130 [38464/60000]\n",
            "loss:1.262639 [44864/60000]\n",
            "loss:1.304499 [51264/60000]\n",
            "loss:1.208294 [57664/60000]\n",
            "Test Error: \n",
            " Accuracy: 63.0%, Avg loss: 1.233528 \n",
            "\n",
            "Epoch 5\n",
            " ------------------------\n",
            "loss:1.303910 [   64/60000]\n",
            "loss:1.299196 [ 6464/60000]\n",
            "loss:1.121080 [12864/60000]\n",
            "loss:1.236750 [19264/60000]\n",
            "loss:1.110608 [25664/60000]\n",
            "loss:1.143257 [32064/60000]\n",
            "loss:1.154433 [38464/60000]\n",
            "loss:1.095195 [44864/60000]\n",
            "loss:1.140474 [51264/60000]\n",
            "loss:1.057172 [57664/60000]\n",
            "Test Error: \n",
            " Accuracy: 64.5%, Avg loss: 1.077587 \n",
            "\n",
            "Done\n"
          ]
        }
      ]
    },
    {
      "cell_type": "code",
      "source": [
        "# Now time to save the model for use case in the real life.\n",
        "# A common way of save a model is to serialize the internal state dictionary which is the model parameters.\n",
        "\n",
        "torch.save(model.state_dict(), \"model.pth\")\n",
        "print(\"Save pytorch model state to model.pth\")\n"
      ],
      "metadata": {
        "colab": {
          "base_uri": "https://localhost:8080/"
        },
        "id": "YOzq2jHXKN-w",
        "outputId": "93aa91f7-7d02-407b-d86c-15221cd2fb6e"
      },
      "execution_count": 9,
      "outputs": [
        {
          "output_type": "stream",
          "name": "stdout",
          "text": [
            "Save pytorch model state to model.pth\n"
          ]
        }
      ]
    },
    {
      "cell_type": "code",
      "source": [
        "# Check our model for make predictions\n",
        "# Load the trained model\n",
        "model = NeuralNetwork().to(device)\n",
        "model.load_state_dict(torch.load('/content/model.pth' , weights_only = True))\n",
        "\n",
        "classes = [\n",
        "    \"T-shirt/top\",\n",
        "    \"Trouser\",\n",
        "    \"Pullover\",\n",
        "    \"Dress\",\n",
        "    \"Coat\",\n",
        "    \"Sandal\",\n",
        "    \"Shirt\",\n",
        "    \"Sneaker\",\n",
        "    \"Bag\",\n",
        "    \"Ankle boot\",\n",
        "]\n",
        "\n",
        "model.eval()\n",
        "x , y = test_data[2][0] , test_data[2][1]\n",
        "x= x.unsqueeze(0)\n",
        "with torch.no_grad():\n",
        "  x = x.to(device)\n",
        "  print(x)\n",
        "  print(len(x))\n",
        "  pred = model(x)\n",
        "  predicted , actual = classes[pred[0].argmax(0)] , classes[y]\n",
        "  print(f\"Predicted: {predicted} , Original: {actual}\")"
      ],
      "metadata": {
        "colab": {
          "base_uri": "https://localhost:8080/"
        },
        "collapsed": true,
        "id": "yXl1vj3oMgWG",
        "outputId": "b9325e98-f8e8-4c81-e59a-eeb425767253"
      },
      "execution_count": 20,
      "outputs": [
        {
          "output_type": "stream",
          "name": "stdout",
          "text": [
            "tensor([[[[0.0000, 0.0000, 0.0000, 0.0000, 0.0000, 0.0000, 0.0000, 0.0000,\n",
            "           0.0039, 0.0000, 0.2627, 0.6941, 0.5059, 0.6000, 0.4588, 0.5059,\n",
            "           0.5725, 0.5529, 0.6863, 0.0000, 0.0000, 0.0000, 0.0000, 0.0000,\n",
            "           0.0000, 0.0000, 0.0000, 0.0000],\n",
            "          [0.0000, 0.0000, 0.0000, 0.0000, 0.0000, 0.0000, 0.0000, 0.0000,\n",
            "           0.0078, 0.0000, 0.7686, 1.0000, 1.0000, 1.0000, 0.9451, 0.9843,\n",
            "           1.0000, 0.9608, 1.0000, 0.2980, 0.0000, 0.0000, 0.0000, 0.0000,\n",
            "           0.0000, 0.0000, 0.0000, 0.0000],\n",
            "          [0.0000, 0.0000, 0.0000, 0.0000, 0.0000, 0.0000, 0.0000, 0.0000,\n",
            "           0.0000, 0.0000, 0.9529, 0.9294, 0.8510, 0.8941, 0.9059, 0.8706,\n",
            "           0.8549, 0.8588, 1.0000, 0.4549, 0.0000, 0.0000, 0.0000, 0.0000,\n",
            "           0.0000, 0.0000, 0.0000, 0.0000],\n",
            "          [0.0000, 0.0000, 0.0000, 0.0000, 0.0000, 0.0000, 0.0000, 0.0000,\n",
            "           0.0000, 0.0000, 1.0000, 0.9216, 0.9059, 0.9137, 0.8863, 0.8824,\n",
            "           0.8980, 0.8706, 1.0000, 0.5686, 0.0000, 0.0000, 0.0000, 0.0000,\n",
            "           0.0000, 0.0000, 0.0000, 0.0000],\n",
            "          [0.0000, 0.0000, 0.0000, 0.0000, 0.0000, 0.0000, 0.0000, 0.0000,\n",
            "           0.0000, 0.0902, 1.0000, 0.9020, 0.8980, 0.9137, 0.8980, 0.8824,\n",
            "           0.8902, 0.8667, 0.9451, 0.6549, 0.0000, 0.0000, 0.0000, 0.0000,\n",
            "           0.0000, 0.0000, 0.0000, 0.0000],\n",
            "          [0.0000, 0.0000, 0.0000, 0.0000, 0.0000, 0.0000, 0.0000, 0.0000,\n",
            "           0.0000, 0.2627, 1.0000, 0.8824, 0.9176, 0.9059, 0.8863, 0.8902,\n",
            "           0.8941, 0.8784, 0.9176, 0.7333, 0.0000, 0.0000, 0.0000, 0.0000,\n",
            "           0.0000, 0.0000, 0.0000, 0.0000],\n",
            "          [0.0000, 0.0000, 0.0000, 0.0000, 0.0000, 0.0000, 0.0000, 0.0000,\n",
            "           0.0000, 0.4471, 0.9765, 0.8510, 0.9216, 0.9333, 0.9608, 0.8902,\n",
            "           0.8902, 0.8824, 0.9451, 0.6902, 0.0000, 0.0000, 0.0000, 0.0000,\n",
            "           0.0000, 0.0000, 0.0000, 0.0000],\n",
            "          [0.0000, 0.0000, 0.0000, 0.0000, 0.0000, 0.0000, 0.0000, 0.0000,\n",
            "           0.0000, 0.6549, 0.9686, 0.8902, 0.9059, 0.9804, 0.7843, 0.9725,\n",
            "           0.9059, 0.8784, 0.9843, 0.5765, 0.0000, 0.0000, 0.0000, 0.0000,\n",
            "           0.0000, 0.0000, 0.0000, 0.0000],\n",
            "          [0.0000, 0.0000, 0.0000, 0.0000, 0.0000, 0.0000, 0.0000, 0.0000,\n",
            "           0.0000, 0.8157, 0.9490, 0.8824, 0.9529, 0.8824, 0.0000, 1.0000,\n",
            "           0.9137, 0.8863, 1.0000, 0.5059, 0.0000, 0.0000, 0.0000, 0.0000,\n",
            "           0.0000, 0.0000, 0.0000, 0.0000],\n",
            "          [0.0000, 0.0000, 0.0000, 0.0000, 0.0000, 0.0000, 0.0000, 0.0000,\n",
            "           0.0000, 0.8745, 0.9333, 0.8745, 1.0000, 0.6314, 0.0000, 1.0000,\n",
            "           0.9255, 0.8745, 1.0000, 0.5294, 0.0000, 0.0000, 0.0000, 0.0000,\n",
            "           0.0000, 0.0000, 0.0000, 0.0000],\n",
            "          [0.0000, 0.0000, 0.0000, 0.0000, 0.0000, 0.0000, 0.0000, 0.0000,\n",
            "           0.0000, 0.9608, 0.9216, 0.8706, 1.0000, 0.2824, 0.0000, 0.9725,\n",
            "           0.9961, 0.8510, 1.0000, 0.5686, 0.0000, 0.0000, 0.0000, 0.0000,\n",
            "           0.0000, 0.0000, 0.0000, 0.0000],\n",
            "          [0.0000, 0.0000, 0.0000, 0.0000, 0.0000, 0.0000, 0.0000, 0.0000,\n",
            "           0.0000, 1.0000, 0.9137, 0.8863, 1.0000, 0.0275, 0.0000, 0.7490,\n",
            "           0.9725, 0.8627, 1.0000, 0.4941, 0.0000, 0.0000, 0.0000, 0.0000,\n",
            "           0.0000, 0.0000, 0.0000, 0.0000],\n",
            "          [0.0000, 0.0000, 0.0000, 0.0000, 0.0000, 0.0000, 0.0000, 0.0000,\n",
            "           0.0000, 1.0000, 0.9137, 0.9059, 0.9843, 0.0000, 0.0000, 0.6235,\n",
            "           0.9843, 0.8667, 1.0000, 0.4353, 0.0000, 0.0000, 0.0000, 0.0000,\n",
            "           0.0000, 0.0000, 0.0000, 0.0000],\n",
            "          [0.0000, 0.0000, 0.0000, 0.0000, 0.0000, 0.0000, 0.0000, 0.0000,\n",
            "           0.0000, 1.0000, 0.9098, 0.9255, 0.8471, 0.0000, 0.0000, 0.5137,\n",
            "           0.9922, 0.8627, 1.0000, 0.4353, 0.0000, 0.0000, 0.0000, 0.0000,\n",
            "           0.0000, 0.0000, 0.0000, 0.0000],\n",
            "          [0.0000, 0.0000, 0.0000, 0.0000, 0.0000, 0.0000, 0.0000, 0.0000,\n",
            "           0.0000, 1.0000, 0.8941, 0.9529, 0.6745, 0.0000, 0.0000, 0.2235,\n",
            "           0.9765, 0.8706, 1.0000, 0.4353, 0.0000, 0.0000, 0.0000, 0.0000,\n",
            "           0.0000, 0.0000, 0.0000, 0.0000],\n",
            "          [0.0000, 0.0000, 0.0000, 0.0000, 0.0000, 0.0000, 0.0000, 0.0000,\n",
            "           0.0000, 1.0000, 0.9020, 0.9569, 0.5451, 0.0000, 0.0000, 0.0392,\n",
            "           1.0000, 0.8902, 1.0000, 0.3922, 0.0000, 0.0000, 0.0000, 0.0000,\n",
            "           0.0000, 0.0000, 0.0000, 0.0000],\n",
            "          [0.0000, 0.0000, 0.0000, 0.0000, 0.0000, 0.0000, 0.0000, 0.0000,\n",
            "           0.0000, 0.8902, 0.9294, 0.9490, 0.4431, 0.0000, 0.0000, 0.0235,\n",
            "           1.0000, 0.9020, 1.0000, 0.3490, 0.0000, 0.0000, 0.0000, 0.0000,\n",
            "           0.0000, 0.0000, 0.0000, 0.0000],\n",
            "          [0.0000, 0.0000, 0.0000, 0.0000, 0.0000, 0.0000, 0.0000, 0.0000,\n",
            "           0.0000, 0.8000, 0.9373, 0.9608, 0.5922, 0.0000, 0.0000, 0.0000,\n",
            "           1.0000, 0.8902, 1.0000, 0.3882, 0.0000, 0.0000, 0.0000, 0.0000,\n",
            "           0.0000, 0.0000, 0.0000, 0.0000],\n",
            "          [0.0000, 0.0000, 0.0000, 0.0000, 0.0000, 0.0000, 0.0000, 0.0000,\n",
            "           0.0000, 0.5922, 0.9608, 0.9333, 0.7765, 0.0000, 0.0000, 0.0000,\n",
            "           1.0000, 0.9176, 1.0000, 0.3608, 0.0000, 0.0000, 0.0000, 0.0000,\n",
            "           0.0000, 0.0000, 0.0000, 0.0000],\n",
            "          [0.0000, 0.0000, 0.0000, 0.0000, 0.0000, 0.0000, 0.0000, 0.0000,\n",
            "           0.0000, 0.3490, 0.9725, 0.9137, 0.9725, 0.0000, 0.0000, 0.0000,\n",
            "           0.9882, 0.9294, 1.0000, 0.3529, 0.0000, 0.0000, 0.0000, 0.0000,\n",
            "           0.0000, 0.0000, 0.0000, 0.0000],\n",
            "          [0.0000, 0.0000, 0.0000, 0.0000, 0.0000, 0.0000, 0.0000, 0.0000,\n",
            "           0.0000, 0.1216, 0.9412, 0.8980, 0.8863, 0.0000, 0.0000, 0.0000,\n",
            "           0.9373, 0.9333, 1.0000, 0.3608, 0.0000, 0.0000, 0.0000, 0.0000,\n",
            "           0.0000, 0.0000, 0.0000, 0.0000],\n",
            "          [0.0000, 0.0000, 0.0000, 0.0000, 0.0000, 0.0000, 0.0000, 0.0000,\n",
            "           0.0000, 0.0000, 0.8863, 0.9137, 0.9294, 0.1333, 0.0000, 0.0000,\n",
            "           0.9176, 0.9333, 1.0000, 0.3725, 0.0000, 0.0000, 0.0000, 0.0000,\n",
            "           0.0000, 0.0000, 0.0000, 0.0000],\n",
            "          [0.0000, 0.0000, 0.0000, 0.0000, 0.0000, 0.0000, 0.0000, 0.0000,\n",
            "           0.0000, 0.0000, 0.9137, 0.9255, 0.9569, 0.2667, 0.0000, 0.0000,\n",
            "           0.8196, 0.9451, 0.9294, 0.3843, 0.0000, 0.0000, 0.0000, 0.0000,\n",
            "           0.0000, 0.0000, 0.0000, 0.0000],\n",
            "          [0.0000, 0.0000, 0.0000, 0.0000, 0.0000, 0.0000, 0.0000, 0.0000,\n",
            "           0.0039, 0.0000, 0.5961, 0.9490, 0.9608, 0.5020, 0.0000, 0.0000,\n",
            "           0.7765, 0.9451, 0.9333, 0.3176, 0.0000, 0.0000, 0.0000, 0.0000,\n",
            "           0.0000, 0.0000, 0.0000, 0.0000],\n",
            "          [0.0000, 0.0000, 0.0000, 0.0000, 0.0000, 0.0000, 0.0000, 0.0000,\n",
            "           0.0078, 0.0000, 0.2863, 0.9647, 0.9451, 0.8275, 0.0000, 0.0000,\n",
            "           0.7922, 0.9412, 0.9294, 0.2902, 0.0000, 0.0000, 0.0000, 0.0000,\n",
            "           0.0000, 0.0000, 0.0000, 0.0000],\n",
            "          [0.0000, 0.0000, 0.0000, 0.0000, 0.0000, 0.0000, 0.0000, 0.0000,\n",
            "           0.0157, 0.0000, 0.0000, 0.8980, 0.9255, 0.8196, 0.0000, 0.0000,\n",
            "           0.6196, 0.9686, 0.9333, 0.3882, 0.0000, 0.0000, 0.0000, 0.0000,\n",
            "           0.0000, 0.0000, 0.0000, 0.0000],\n",
            "          [0.0000, 0.0000, 0.0000, 0.0000, 0.0000, 0.0000, 0.0000, 0.0000,\n",
            "           0.0039, 0.0000, 0.0000, 0.7804, 1.0000, 0.9686, 0.2275, 0.0000,\n",
            "           0.6314, 1.0000, 0.9882, 0.4667, 0.0000, 0.0000, 0.0000, 0.0000,\n",
            "           0.0000, 0.0000, 0.0000, 0.0000],\n",
            "          [0.0000, 0.0000, 0.0000, 0.0000, 0.0000, 0.0000, 0.0000, 0.0000,\n",
            "           0.0000, 0.0000, 0.0000, 0.3843, 0.6235, 0.2784, 0.0000, 0.0000,\n",
            "           0.2667, 0.6902, 0.6431, 0.2275, 0.0000, 0.0000, 0.0000, 0.0000,\n",
            "           0.0000, 0.0000, 0.0000, 0.0000]]]], device='cuda:0')\n",
            "1\n",
            "Predicted: Trouser , Original: Trouser\n"
          ]
        }
      ]
    },
    {
      "cell_type": "code",
      "source": [
        "for i in range(len(test_data)):\n",
        "  for j in range(len(test_data)):\n",
        "    if i == 0 and j == 1:\n",
        "      print(test_data[i][j])\n",
        "      break"
      ],
      "metadata": {
        "colab": {
          "base_uri": "https://localhost:8080/"
        },
        "id": "9hzgw2b0q7G_",
        "outputId": "0c917c3d-2df0-4499-ad09-e23a5e6a2009"
      },
      "execution_count": 30,
      "outputs": [
        {
          "output_type": "stream",
          "name": "stdout",
          "text": [
            "9\n"
          ]
        }
      ]
    },
    {
      "cell_type": "markdown",
      "source": [
        "### *Tensors*"
      ],
      "metadata": {
        "id": "qa99o0MBv2aX"
      }
    },
    {
      "cell_type": "code",
      "source": [
        "# Try to understand the tensor with some examples\n",
        "import numpy as np\n",
        "import torch"
      ],
      "metadata": {
        "id": "Re1vDAq1tAm-"
      },
      "execution_count": 3,
      "outputs": []
    },
    {
      "cell_type": "code",
      "source": [
        "# Initilizing a tensor\n",
        "# Directly from data\n",
        "data = [[1 , 2],[3 , 4]] # This 2D metrics\n",
        "x_data = torch.tensor(data)\n",
        "print(x_data)\n",
        "type(x_data)\n",
        "# type(data)"
      ],
      "metadata": {
        "colab": {
          "base_uri": "https://localhost:8080/"
        },
        "id": "OHO8z1fDtE3i",
        "outputId": "acf071ea-4fe6-4f39-d7d0-3a5a2f05f2e4"
      },
      "execution_count": 27,
      "outputs": [
        {
          "output_type": "stream",
          "name": "stdout",
          "text": [
            "tensor([[1, 2],\n",
            "        [3, 4]])\n"
          ]
        },
        {
          "output_type": "execute_result",
          "data": {
            "text/plain": [
              "torch.Tensor"
            ]
          },
          "metadata": {},
          "execution_count": 27
        }
      ]
    },
    {
      "cell_type": "code",
      "source": [
        "# Tensor can created using ndarray\n",
        "\n",
        "np_array = np.array(data)\n",
        "x_np = torch.from_numpy(np_array)\n",
        "print(x_np)"
      ],
      "metadata": {
        "colab": {
          "base_uri": "https://localhost:8080/"
        },
        "id": "GNo-E_0pzVTR",
        "outputId": "96c737ce-5370-4c48-8c5a-8539f3a473a7"
      },
      "execution_count": 28,
      "outputs": [
        {
          "output_type": "stream",
          "name": "stdout",
          "text": [
            "tensor([[1, 2],\n",
            "        [3, 4]])\n"
          ]
        }
      ]
    },
    {
      "cell_type": "code",
      "source": [
        "# From another tensor\n",
        "x_ones = torch.ones_like(x_data)\n",
        "x_rand = torch.rand_like(x_data , dtype = torch.float)\n",
        "print(f\"ones tensor: {x_data}\")\n",
        "print(f\"random tensor: {x_rand}\")"
      ],
      "metadata": {
        "colab": {
          "base_uri": "https://localhost:8080/"
        },
        "id": "Sf1BYf-Y0Hpb",
        "outputId": "761b2f3f-55b8-4b32-c909-8ca4cc308019"
      },
      "execution_count": 29,
      "outputs": [
        {
          "output_type": "stream",
          "name": "stdout",
          "text": [
            "ones tensor: tensor([[1, 2],\n",
            "        [3, 4]])\n",
            "random tensor: tensor([[0.1819, 0.0653],\n",
            "        [0.1840, 0.6039]])\n"
          ]
        }
      ]
    },
    {
      "cell_type": "code",
      "source": [
        "# With random or constant values\n",
        "shape = (4 , 5,)\n",
        "\n",
        "rand_tensor = torch.rand(shape)\n",
        "ones_tensor = torch.ones(shape)\n",
        "zeros_tensor = torch.zeros(shape)\n",
        "\n",
        "print(f\"Random Tensor: {rand_tensor}\")\n",
        "print(f\"Ones Tensor: {ones_tensor}\")\n",
        "print(f\"Zeros Tensor: {zeros_tensor}\")"
      ],
      "metadata": {
        "colab": {
          "base_uri": "https://localhost:8080/"
        },
        "id": "lqw1KRRI07Mi",
        "outputId": "84e81bc4-a429-485c-e49a-3ad8faf0dbfd"
      },
      "execution_count": 31,
      "outputs": [
        {
          "output_type": "stream",
          "name": "stdout",
          "text": [
            "Random Tensor: tensor([[0.1199, 0.2277, 0.4503, 0.5660, 0.7424],\n",
            "        [0.2138, 0.5192, 0.6906, 0.5922, 0.6765],\n",
            "        [0.6123, 0.2124, 0.5766, 0.6059, 0.8142],\n",
            "        [0.8456, 0.0089, 0.0835, 0.9716, 0.7915]])\n",
            "Ones Tensor: tensor([[1., 1., 1., 1., 1.],\n",
            "        [1., 1., 1., 1., 1.],\n",
            "        [1., 1., 1., 1., 1.],\n",
            "        [1., 1., 1., 1., 1.]])\n",
            "Zeros Tensor: tensor([[0., 0., 0., 0., 0.],\n",
            "        [0., 0., 0., 0., 0.],\n",
            "        [0., 0., 0., 0., 0.],\n",
            "        [0., 0., 0., 0., 0.]])\n"
          ]
        }
      ]
    },
    {
      "cell_type": "code",
      "source": [
        "if torch.cuda.is_available():\n",
        "  device = torch.device('cuda')\n",
        "else:\n",
        "  device = torch.device('cpu')"
      ],
      "metadata": {
        "id": "l2X6q5vD7WNf"
      },
      "execution_count": 33,
      "outputs": []
    },
    {
      "cell_type": "code",
      "source": [
        "# Attributes of a tensor\n",
        "tensor = torch.rand(3,4)\n",
        "print(f\"Shape of tensor: {tensor.shape}\")\n",
        "print(f\"Datatype of tensor: {tensor.dtype}\")\n",
        "print(f\"Device tensor is stored on: {tensor.device}\")"
      ],
      "metadata": {
        "colab": {
          "base_uri": "https://localhost:8080/"
        },
        "id": "tvpm9O-13xJa",
        "outputId": "05db3b2c-a869-4829-8c44-5f69cb4572c6"
      },
      "execution_count": 4,
      "outputs": [
        {
          "output_type": "stream",
          "name": "stdout",
          "text": [
            "Shape of tensor: torch.Size([3, 4])\n",
            "Datatype of tensor: torch.float32\n",
            "Device tensor is stored on: cpu\n"
          ]
        }
      ]
    },
    {
      "cell_type": "code",
      "source": [
        "# Operations on the tensors\n",
        "tensor = torch.ones(4,4)\n",
        "print(f\"First row: {tensor[0]}\")\n",
        "print(f\"First columns: {tensor[:,0]}\")\n",
        "print(f\"Last column: {tensor[... , -1]}\")\n",
        "\n",
        "print(tensor)"
      ],
      "metadata": {
        "colab": {
          "base_uri": "https://localhost:8080/"
        },
        "id": "Fhv_JKHA5jvg",
        "outputId": "30450e08-efa2-4c9b-a07e-551de397f3a7"
      },
      "execution_count": 5,
      "outputs": [
        {
          "output_type": "stream",
          "name": "stdout",
          "text": [
            "First row: tensor([1., 1., 1., 1.])\n",
            "First columns: tensor([1., 1., 1., 1.])\n",
            "Last column: tensor([1., 1., 1., 1.])\n",
            "tensor([[1., 1., 1., 1.],\n",
            "        [1., 1., 1., 1.],\n",
            "        [1., 1., 1., 1.],\n",
            "        [1., 1., 1., 1.]])\n"
          ]
        }
      ]
    },
    {
      "cell_type": "code",
      "source": [
        "# Joining tensors\n",
        "tensor[: , 1] = 0\n",
        "print(tensor)"
      ],
      "metadata": {
        "colab": {
          "base_uri": "https://localhost:8080/"
        },
        "id": "JLtQY4sH80tf",
        "outputId": "77ecc80c-22a0-43eb-8a3e-2be6d1a2b805"
      },
      "execution_count": 6,
      "outputs": [
        {
          "output_type": "stream",
          "name": "stdout",
          "text": [
            "tensor([[1., 0., 1., 1.],\n",
            "        [1., 0., 1., 1.],\n",
            "        [1., 0., 1., 1.],\n",
            "        [1., 0., 1., 1.]])\n"
          ]
        }
      ]
    },
    {
      "cell_type": "code",
      "source": [
        "# we can join the more than one tensor by using the torch.cat or torch.stack method\n",
        "\n",
        "t1 = torch.cat([tensor , tensor , tensor] , dim = 1)\n",
        "print(t1)"
      ],
      "metadata": {
        "colab": {
          "base_uri": "https://localhost:8080/"
        },
        "id": "PPzqwhha-Y_d",
        "outputId": "89a44e4d-9c19-4c6f-be72-530c11fb89be"
      },
      "execution_count": 7,
      "outputs": [
        {
          "output_type": "stream",
          "name": "stdout",
          "text": [
            "tensor([[1., 0., 1., 1., 1., 0., 1., 1., 1., 0., 1., 1.],\n",
            "        [1., 0., 1., 1., 1., 0., 1., 1., 1., 0., 1., 1.],\n",
            "        [1., 0., 1., 1., 1., 0., 1., 1., 1., 0., 1., 1.],\n",
            "        [1., 0., 1., 1., 1., 0., 1., 1., 1., 0., 1., 1.]])\n"
          ]
        }
      ]
    },
    {
      "cell_type": "code",
      "source": [
        "# Arithmetic operatins on tensors\n",
        "# tensor.T it return the transpose of the two matrix\n",
        "y1 = tensor @ tensor.T\n",
        "y2 = tensor.matmul(tensor.T)\n",
        "\n",
        "y3 = torch.rand_like(y1)\n",
        "torch.matmul(tensor , tensor.T , out=y3)\n",
        "\n",
        "# This compute the element wise product . z1 , z2 , z3 will have the same value\n",
        "z1 = tensor * tensor\n",
        "z2 = tensor.mul(tensor)\n",
        "\n",
        "z3 = torch.rand_like(tensor)\n",
        "torch.mul(tensor , tensor , out = z3)\n",
        "\n",
        "print(f'Transpose operation is : {y1}')\n",
        "print(f'Element wise multiplication : {z1}')"
      ],
      "metadata": {
        "colab": {
          "base_uri": "https://localhost:8080/"
        },
        "id": "nDOu_0n2_KB7",
        "outputId": "1b97c8a4-4857-4d96-ee80-9ff36279dc02"
      },
      "execution_count": 8,
      "outputs": [
        {
          "output_type": "stream",
          "name": "stdout",
          "text": [
            "Transpose operation is : tensor([[3., 3., 3., 3.],\n",
            "        [3., 3., 3., 3.],\n",
            "        [3., 3., 3., 3.],\n",
            "        [3., 3., 3., 3.]])\n",
            "Element wise multiplication : tensor([[1., 0., 1., 1.],\n",
            "        [1., 0., 1., 1.],\n",
            "        [1., 0., 1., 1.],\n",
            "        [1., 0., 1., 1.]])\n"
          ]
        }
      ]
    },
    {
      "cell_type": "markdown",
      "source": [],
      "metadata": {
        "id": "F0R1RAc_CQWt"
      }
    }
  ]
}